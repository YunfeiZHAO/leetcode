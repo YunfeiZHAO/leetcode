{
 "cells": [
  {
   "cell_type": "code",
   "execution_count": 22,
   "metadata": {},
   "outputs": [],
   "source": [
    "import numpy as np\n",
    "import pandas as pd\n",
    "from matplotlib import pyplot as plt"
   ]
  },
  {
   "attachments": {},
   "cell_type": "markdown",
   "metadata": {},
   "source": [
    "# One dimentional table"
   ]
  },
  {
   "cell_type": "code",
   "execution_count": 4,
   "metadata": {},
   "outputs": [],
   "source": [
    "# by pytho array\n",
    "a = np.array([1,2,3])\n",
    "b = np.array(range(4))"
   ]
  },
  {
   "cell_type": "code",
   "execution_count": 15,
   "metadata": {},
   "outputs": [],
   "source": [
    "# numpy array\n",
    "a = np.arange(10)\n",
    "b = np.linspace(0,5,10)\n",
    "c = np.logspace(0,2,5)\n",
    "d = np.geomspace(0.1, 100, 4)"
   ]
  },
  {
   "cell_type": "code",
   "execution_count": 19,
   "metadata": {},
   "outputs": [],
   "source": [
    "# with initial value\n",
    "a = np.zeros(4) \n",
    "b = np.ones(3)\n",
    "c = np.full(5, 3.8)"
   ]
  },
  {
   "cell_type": "code",
   "execution_count": 25,
   "metadata": {},
   "outputs": [
    {
     "data": {
      "image/png": "[encoded data removed]",
      "text/plain": [
       "<Figure size 432x288 with 1 Axes>"
      ]
     },
     "metadata": {
      "needs_background": "light"
     },
     "output_type": "display_data"
    }
   ],
   "source": [
    "# with a distribution\n",
    "a = np.random.normal(loc=3, scale=2, size=1000)\n",
    "b = np.random.uniform(low=-1, high=1, size=1000)\n",
    "c = np.random.exponential(scale=.3, size=1000)\n",
    "\n",
    "plt.hist(c)\n",
    "plt.show()"
   ]
  },
  {
   "cell_type": "code",
   "execution_count": null,
   "metadata": {},
   "outputs": [],
   "source": []
  }
 ],
 "metadata": {
  "kernelspec": {
   "display_name": "base",
   "language": "python",
   "name": "python3"
  },
  "language_info": {
   "codemirror_mode": {
    "name": "ipython",
    "version": 3
   },
   "file_extension": ".py",
   "mimetype": "text/x-python",
   "name": "python",
   "nbconvert_exporter": "python",
   "pygments_lexer": "ipython3",
   "version": "3.9.12"
  },
  "orig_nbformat": 4,
  "vscode": {
   "interpreter": {
    "hash": "97270a30cd43a5851265ca4c300542b21f1fe1e3ac14fe3af2345ea29de5c851"
   }
  }
 },
 "nbformat": 4,
 "nbformat_minor": 2
}
